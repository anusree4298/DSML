{
  "nbformat": 4,
  "nbformat_minor": 0,
  "metadata": {
    "colab": {
      "provenance": []
    },
    "kernelspec": {
      "name": "python3",
      "display_name": "Python 3"
    },
    "language_info": {
      "name": "python"
    }
  },
  "cells": [
    {
      "cell_type": "markdown",
      "source": [
        "**Exercise 1:**\n",
        "\n",
        "Write a Python program to read a file and display its contents\n",
        "\n",
        "\n"
      ],
      "metadata": {
        "id": "6fkCiKKD63UY"
      }
    },
    {
      "cell_type": "code",
      "source": [
        "from google.colab import files\n",
        "files.upload()"
      ],
      "metadata": {
        "colab": {
          "base_uri": "https://localhost:8080/",
          "height": 146
        },
        "id": "P8C5ouF6FNHn",
        "outputId": "68b7f421-4de3-4e2e-aa45-f6dcb26886af"
      },
      "execution_count": 15,
      "outputs": [
        {
          "output_type": "display_data",
          "data": {
            "text/plain": [
              "<IPython.core.display.HTML object>"
            ],
            "text/html": [
              "\n",
              "     <input type=\"file\" id=\"files-c9ae51f5-922c-49e4-a275-5500fa405e6b\" name=\"files[]\" multiple disabled\n",
              "        style=\"border:none\" />\n",
              "     <output id=\"result-c9ae51f5-922c-49e4-a275-5500fa405e6b\">\n",
              "      Upload widget is only available when the cell has been executed in the\n",
              "      current browser session. Please rerun this cell to enable.\n",
              "      </output>\n",
              "      <script>// Copyright 2017 Google LLC\n",
              "//\n",
              "// Licensed under the Apache License, Version 2.0 (the \"License\");\n",
              "// you may not use this file except in compliance with the License.\n",
              "// You may obtain a copy of the License at\n",
              "//\n",
              "//      http://www.apache.org/licenses/LICENSE-2.0\n",
              "//\n",
              "// Unless required by applicable law or agreed to in writing, software\n",
              "// distributed under the License is distributed on an \"AS IS\" BASIS,\n",
              "// WITHOUT WARRANTIES OR CONDITIONS OF ANY KIND, either express or implied.\n",
              "// See the License for the specific language governing permissions and\n",
              "// limitations under the License.\n",
              "\n",
              "/**\n",
              " * @fileoverview Helpers for google.colab Python module.\n",
              " */\n",
              "(function(scope) {\n",
              "function span(text, styleAttributes = {}) {\n",
              "  const element = document.createElement('span');\n",
              "  element.textContent = text;\n",
              "  for (const key of Object.keys(styleAttributes)) {\n",
              "    element.style[key] = styleAttributes[key];\n",
              "  }\n",
              "  return element;\n",
              "}\n",
              "\n",
              "// Max number of bytes which will be uploaded at a time.\n",
              "const MAX_PAYLOAD_SIZE = 100 * 1024;\n",
              "\n",
              "function _uploadFiles(inputId, outputId) {\n",
              "  const steps = uploadFilesStep(inputId, outputId);\n",
              "  const outputElement = document.getElementById(outputId);\n",
              "  // Cache steps on the outputElement to make it available for the next call\n",
              "  // to uploadFilesContinue from Python.\n",
              "  outputElement.steps = steps;\n",
              "\n",
              "  return _uploadFilesContinue(outputId);\n",
              "}\n",
              "\n",
              "// This is roughly an async generator (not supported in the browser yet),\n",
              "// where there are multiple asynchronous steps and the Python side is going\n",
              "// to poll for completion of each step.\n",
              "// This uses a Promise to block the python side on completion of each step,\n",
              "// then passes the result of the previous step as the input to the next step.\n",
              "function _uploadFilesContinue(outputId) {\n",
              "  const outputElement = document.getElementById(outputId);\n",
              "  const steps = outputElement.steps;\n",
              "\n",
              "  const next = steps.next(outputElement.lastPromiseValue);\n",
              "  return Promise.resolve(next.value.promise).then((value) => {\n",
              "    // Cache the last promise value to make it available to the next\n",
              "    // step of the generator.\n",
              "    outputElement.lastPromiseValue = value;\n",
              "    return next.value.response;\n",
              "  });\n",
              "}\n",
              "\n",
              "/**\n",
              " * Generator function which is called between each async step of the upload\n",
              " * process.\n",
              " * @param {string} inputId Element ID of the input file picker element.\n",
              " * @param {string} outputId Element ID of the output display.\n",
              " * @return {!Iterable<!Object>} Iterable of next steps.\n",
              " */\n",
              "function* uploadFilesStep(inputId, outputId) {\n",
              "  const inputElement = document.getElementById(inputId);\n",
              "  inputElement.disabled = false;\n",
              "\n",
              "  const outputElement = document.getElementById(outputId);\n",
              "  outputElement.innerHTML = '';\n",
              "\n",
              "  const pickedPromise = new Promise((resolve) => {\n",
              "    inputElement.addEventListener('change', (e) => {\n",
              "      resolve(e.target.files);\n",
              "    });\n",
              "  });\n",
              "\n",
              "  const cancel = document.createElement('button');\n",
              "  inputElement.parentElement.appendChild(cancel);\n",
              "  cancel.textContent = 'Cancel upload';\n",
              "  const cancelPromise = new Promise((resolve) => {\n",
              "    cancel.onclick = () => {\n",
              "      resolve(null);\n",
              "    };\n",
              "  });\n",
              "\n",
              "  // Wait for the user to pick the files.\n",
              "  const files = yield {\n",
              "    promise: Promise.race([pickedPromise, cancelPromise]),\n",
              "    response: {\n",
              "      action: 'starting',\n",
              "    }\n",
              "  };\n",
              "\n",
              "  cancel.remove();\n",
              "\n",
              "  // Disable the input element since further picks are not allowed.\n",
              "  inputElement.disabled = true;\n",
              "\n",
              "  if (!files) {\n",
              "    return {\n",
              "      response: {\n",
              "        action: 'complete',\n",
              "      }\n",
              "    };\n",
              "  }\n",
              "\n",
              "  for (const file of files) {\n",
              "    const li = document.createElement('li');\n",
              "    li.append(span(file.name, {fontWeight: 'bold'}));\n",
              "    li.append(span(\n",
              "        `(${file.type || 'n/a'}) - ${file.size} bytes, ` +\n",
              "        `last modified: ${\n",
              "            file.lastModifiedDate ? file.lastModifiedDate.toLocaleDateString() :\n",
              "                                    'n/a'} - `));\n",
              "    const percent = span('0% done');\n",
              "    li.appendChild(percent);\n",
              "\n",
              "    outputElement.appendChild(li);\n",
              "\n",
              "    const fileDataPromise = new Promise((resolve) => {\n",
              "      const reader = new FileReader();\n",
              "      reader.onload = (e) => {\n",
              "        resolve(e.target.result);\n",
              "      };\n",
              "      reader.readAsArrayBuffer(file);\n",
              "    });\n",
              "    // Wait for the data to be ready.\n",
              "    let fileData = yield {\n",
              "      promise: fileDataPromise,\n",
              "      response: {\n",
              "        action: 'continue',\n",
              "      }\n",
              "    };\n",
              "\n",
              "    // Use a chunked sending to avoid message size limits. See b/62115660.\n",
              "    let position = 0;\n",
              "    do {\n",
              "      const length = Math.min(fileData.byteLength - position, MAX_PAYLOAD_SIZE);\n",
              "      const chunk = new Uint8Array(fileData, position, length);\n",
              "      position += length;\n",
              "\n",
              "      const base64 = btoa(String.fromCharCode.apply(null, chunk));\n",
              "      yield {\n",
              "        response: {\n",
              "          action: 'append',\n",
              "          file: file.name,\n",
              "          data: base64,\n",
              "        },\n",
              "      };\n",
              "\n",
              "      let percentDone = fileData.byteLength === 0 ?\n",
              "          100 :\n",
              "          Math.round((position / fileData.byteLength) * 100);\n",
              "      percent.textContent = `${percentDone}% done`;\n",
              "\n",
              "    } while (position < fileData.byteLength);\n",
              "  }\n",
              "\n",
              "  // All done.\n",
              "  yield {\n",
              "    response: {\n",
              "      action: 'complete',\n",
              "    }\n",
              "  };\n",
              "}\n",
              "\n",
              "scope.google = scope.google || {};\n",
              "scope.google.colab = scope.google.colab || {};\n",
              "scope.google.colab._files = {\n",
              "  _uploadFiles,\n",
              "  _uploadFilesContinue,\n",
              "};\n",
              "})(self);\n",
              "</script> "
            ]
          },
          "metadata": {}
        },
        {
          "output_type": "stream",
          "name": "stdout",
          "text": [
            "Saving Python an overview.txt to Python an overview (2).txt\n"
          ]
        },
        {
          "output_type": "execute_result",
          "data": {
            "text/plain": [
              "{'Python an overview (2).txt': b'Python an overview\\r\\n\\r\\nPython is a versatile, high-level programming language known for its simplicity and readability. It supports multiple programming paradigms, including procedural, object-oriented, and functional programming. Python is widely used in web development, data science, artificial intelligence, and automation due to its rich ecosystem of libraries. Its strong community support and extensive documentation make it an ideal language for beginners and professionals alike. With its emphasis on code clarity and efficiency, Python continues to be a popular choice in the tech industry'}"
            ]
          },
          "metadata": {},
          "execution_count": 15
        }
      ]
    },
    {
      "cell_type": "code",
      "source": [
        "# Read from a file (existing)\n",
        "\n",
        "with open(\"/content/Python an overview.txt\",'r') as file:\n",
        "    content = file.read()\n",
        "    print(\"Content of the file: \")\n",
        "    print(content)"
      ],
      "metadata": {
        "colab": {
          "base_uri": "https://localhost:8080/"
        },
        "id": "H7TdVn8067zu",
        "outputId": "68223c4d-2a45-44cc-b045-cd7221507d68"
      },
      "execution_count": 16,
      "outputs": [
        {
          "output_type": "stream",
          "name": "stdout",
          "text": [
            "Content of the file: \n",
            "Python an overview\n",
            "\n",
            "Python is a versatile, high-level programming language known for its simplicity and readability. It supports multiple programming paradigms, including procedural, object-oriented, and functional programming. Python is widely used in web development, data science, artificial intelligence, and automation due to its rich ecosystem of libraries. Its strong community support and extensive documentation make it an ideal language for beginners and professionals alike. With its emphasis on code clarity and efficiency, Python continues to be a popular choice in the tech industry\n"
          ]
        }
      ]
    },
    {
      "cell_type": "markdown",
      "source": [
        "**Exercise 2:**\n",
        "\n",
        "Write a Python program to copy the contents of one file to another file\n"
      ],
      "metadata": {
        "id": "wO5xETXBFZpT"
      }
    },
    {
      "cell_type": "code",
      "source": [
        "with open(\"/content/Python an overview.txt\", 'r') as source_file:\n",
        "            content = source_file.read()\n",
        "with open(\"/content/new_file.txt\", 'w') as destination_file:\n",
        "            destination_file.write(content)\n",
        "print(\"Content of the file copied successfully \")\n",
        "\n",
        "with open(\"/content/new_file.txt\",'r') as file:\n",
        "    content = file.read()\n",
        "    print(\"Content of the file: \")\n",
        "    print(content)\n",
        "\n",
        "\n"
      ],
      "metadata": {
        "colab": {
          "base_uri": "https://localhost:8080/"
        },
        "id": "8IhjxxIWFoI7",
        "outputId": "82063f20-e51a-4a3a-cbab-cc49d88d92d4"
      },
      "execution_count": 19,
      "outputs": [
        {
          "output_type": "stream",
          "name": "stdout",
          "text": [
            "Content of the file copied successfully \n",
            "Content of the file: \n",
            "Python an overview\n",
            "\n",
            "Python is a versatile, high-level programming language known for its simplicity and readability. It supports multiple programming paradigms, including procedural, object-oriented, and functional programming. Python is widely used in web development, data science, artificial intelligence, and automation due to its rich ecosystem of libraries. Its strong community support and extensive documentation make it an ideal language for beginners and professionals alike. With its emphasis on code clarity and efficiency, Python continues to be a popular choice in the tech industry\n"
          ]
        }
      ]
    },
    {
      "cell_type": "markdown",
      "source": [
        "**Exercise 3**:\n",
        "\n",
        "Write a Python program to read the content of a file and count the total number of words in that file.\n",
        "\n"
      ],
      "metadata": {
        "id": "AEqid6haG9SR"
      }
    },
    {
      "cell_type": "code",
      "source": [
        "with open(\"/content/Python an overview.txt\", 'r') as file:\n",
        "            content = file.read()\n",
        "            words = content.split()  # Spliting content into words\n",
        "            word_count = len(words)  # Counting number of words\n",
        "            print(f\"Total number of words in the file: {word_count}\")"
      ],
      "metadata": {
        "colab": {
          "base_uri": "https://localhost:8080/"
        },
        "id": "zWf6ig_CG6Tq",
        "outputId": "54fc6a65-dc98-438f-921e-07cb24a7e0ec"
      },
      "execution_count": 21,
      "outputs": [
        {
          "output_type": "stream",
          "name": "stdout",
          "text": [
            "Total number of words in the file: 83\n"
          ]
        }
      ]
    },
    {
      "cell_type": "markdown",
      "source": [
        "**Exercise 4:**\n",
        "\n",
        "Write a Python program that prompts the user to input a string and converts it to an integer. Use try-except blocks to handle any exceptions that might occur\n"
      ],
      "metadata": {
        "id": "7W8Z3vJAIcMf"
      }
    },
    {
      "cell_type": "code",
      "source": [
        "def converting_string_to_integer():\n",
        "  try:\n",
        "    user_input=input(\"Enter a number  \") #prompting the user to input\n",
        "    number= int(user_input) #converting number to int\n",
        "    print(f\"The number you have entered is {number}\")\n",
        "\n",
        "  except ValueError:\n",
        "    print(\"Error:Invalid input please enter a valid integer\")\n",
        "  except Exception as e:\n",
        "        print(f\"An unexpected error occurred: {e}\")\n"
      ],
      "metadata": {
        "id": "kRGja2siJA5X"
      },
      "execution_count": 32,
      "outputs": []
    },
    {
      "cell_type": "code",
      "source": [
        "# example1\n",
        "converting_string_to_integer()"
      ],
      "metadata": {
        "colab": {
          "base_uri": "https://localhost:8080/"
        },
        "id": "PwXhxIZpK_kX",
        "outputId": "06945b85-db4e-4a65-b5f2-1f59745a358e"
      },
      "execution_count": 33,
      "outputs": [
        {
          "output_type": "stream",
          "name": "stdout",
          "text": [
            "Enter a number  23\n",
            "The number you have entered is 23\n"
          ]
        }
      ]
    },
    {
      "cell_type": "code",
      "source": [
        "# example2\n",
        "converting_string_to_integer()"
      ],
      "metadata": {
        "colab": {
          "base_uri": "https://localhost:8080/"
        },
        "id": "uhbIET81LHbh",
        "outputId": "26287bdb-485a-4bdb-c824-7940cbd73bc8"
      },
      "execution_count": 34,
      "outputs": [
        {
          "output_type": "stream",
          "name": "stdout",
          "text": [
            "Enter a number  Hello\n",
            "Error:Invalid input please enter a valid integer\n"
          ]
        }
      ]
    },
    {
      "cell_type": "code",
      "source": [
        "# example3\n",
        "converting_string_to_integer()"
      ],
      "metadata": {
        "colab": {
          "base_uri": "https://localhost:8080/"
        },
        "id": "91T-vv5cLL4l",
        "outputId": "f0953c77-2ecf-4d21-c6a1-d9c40ed6c8bd"
      },
      "execution_count": 35,
      "outputs": [
        {
          "output_type": "stream",
          "name": "stdout",
          "text": [
            "Enter a number  -3\n",
            "The number you have entered is -3\n"
          ]
        }
      ]
    },
    {
      "cell_type": "code",
      "source": [
        "# example4\n",
        "converting_string_to_integer()"
      ],
      "metadata": {
        "colab": {
          "base_uri": "https://localhost:8080/"
        },
        "id": "LaaFPsEaLiz1",
        "outputId": "0757f4f4-3de2-413f-dffb-8fcc0f94172c"
      },
      "execution_count": 36,
      "outputs": [
        {
          "output_type": "stream",
          "name": "stdout",
          "text": [
            "Enter a number  5.6\n",
            "Error:Invalid input please enter a valid integer\n"
          ]
        }
      ]
    },
    {
      "cell_type": "markdown",
      "source": [
        "**Exercise 5:**\n",
        "\n",
        "Write a Python program that prompts the user to input a list of integers and raises an exception if any of the integers in the list are negative.\n"
      ],
      "metadata": {
        "id": "sYAtD7vKLnUV"
      }
    },
    {
      "cell_type": "code",
      "source": [
        "def Positive_list():\n",
        " try:\n",
        "\n",
        "    list=[int(x) for x in input('enter the numbers seperated by space: ').split()]\n",
        "    print('The list of numbers entered is: ',list)\n",
        "    for i in list:\n",
        "      if i<0:\n",
        "        raise ValueError(f\"Negative number found {i}\")\n",
        "    print(\"Valid list of integers:\", list)\n",
        " except ValueError as e:\n",
        "   print(f\"Error! {e}\")\n",
        ""
      ],
      "metadata": {
        "id": "5CO4d3_bLzaN"
      },
      "execution_count": 55,
      "outputs": []
    },
    {
      "cell_type": "code",
      "source": [
        "#example1\n",
        "Positive_list()"
      ],
      "metadata": {
        "colab": {
          "base_uri": "https://localhost:8080/"
        },
        "id": "D3wT5z58OWhG",
        "outputId": "85977f21-05ab-452a-a2ff-7109ce38ea93"
      },
      "execution_count": 56,
      "outputs": [
        {
          "output_type": "stream",
          "name": "stdout",
          "text": [
            "enter the numbers seperated by space: 7 8 5 9\n",
            "The list of numbers entered is:  [7, 8, 5, 9]\n",
            "Valid list of integers: [7, 8, 5, 9]\n"
          ]
        }
      ]
    },
    {
      "cell_type": "code",
      "source": [
        "#example2\n",
        "Positive_list()\n"
      ],
      "metadata": {
        "colab": {
          "base_uri": "https://localhost:8080/"
        },
        "id": "uxVB7iMrRBqG",
        "outputId": "f4bacdfe-f8e4-4c58-aae8-501b2c2eeffd"
      },
      "execution_count": 57,
      "outputs": [
        {
          "output_type": "stream",
          "name": "stdout",
          "text": [
            "enter the numbers seperated by space: 7 8 -3 5 9\n",
            "The list of numbers entered is:  [7, 8, -3, 5, 9]\n",
            "Error! Negative number found -3\n"
          ]
        }
      ]
    },
    {
      "cell_type": "markdown",
      "source": [
        "**Exercise 6**:\n",
        "\n",
        "Write a Python program that prompts the user to input a list of integers and computes the average of those integers. Use try-except blocks to handle any exceptions that might occur.use the finally clause to print a message indicating that the program has finished running.\n"
      ],
      "metadata": {
        "id": "kBjbA6AERMe-"
      }
    },
    {
      "cell_type": "code",
      "source": [
        "def average_func():\n",
        " try:\n",
        "\n",
        "    list=[int(x) for x in input('enter the numbers seperated by space: ').split()]\n",
        "    print('The list of numbers entered is: ',list)\n",
        "    if not list:  # Checking if the list is empty\n",
        "            raise ValueError(\"The list is empty. Please enter at least one number.\")\n",
        "    avg= sum(list)/len(list)\n",
        "    print(f\"The average of the given numbers is: {avg:.2f}\")\n",
        "\n",
        " except ValueError as e:\n",
        "        print(f\"Error: {e}\")\n",
        "\n",
        " finally:\n",
        "        print(\"Program has finished running.\")\n"
      ],
      "metadata": {
        "id": "H4CIKP5wRV7e"
      },
      "execution_count": 58,
      "outputs": []
    },
    {
      "cell_type": "code",
      "source": [
        "#example1\n",
        "average_func()"
      ],
      "metadata": {
        "colab": {
          "base_uri": "https://localhost:8080/"
        },
        "id": "vY8ItxMzST1l",
        "outputId": "c28d6807-8440-4eb4-f922-7a686e39450e"
      },
      "execution_count": 59,
      "outputs": [
        {
          "output_type": "stream",
          "name": "stdout",
          "text": [
            "enter the numbers seperated by space: 7 8 -3 5 9\n",
            "The list of numbers entered is:  [7, 8, -3, 5, 9]\n",
            "The average of the given numbers is: 5.20\n",
            "Program has finished running.\n"
          ]
        }
      ]
    },
    {
      "cell_type": "code",
      "source": [
        "#example2\n",
        "average_func()"
      ],
      "metadata": {
        "colab": {
          "base_uri": "https://localhost:8080/"
        },
        "id": "RIQaN2X-ShmN",
        "outputId": "b92c430e-e12e-4717-993d-99ae5b207411"
      },
      "execution_count": 60,
      "outputs": [
        {
          "output_type": "stream",
          "name": "stdout",
          "text": [
            "enter the numbers seperated by space: \n",
            "The list of numbers entered is:  []\n",
            "Error: The list is empty. Please enter at least one number.\n",
            "Program has finished running.\n"
          ]
        }
      ]
    },
    {
      "cell_type": "code",
      "source": [
        "#example2\n",
        "average_func()"
      ],
      "metadata": {
        "colab": {
          "base_uri": "https://localhost:8080/"
        },
        "id": "SJjR4qsOSn3I",
        "outputId": "45d0a22b-cc2b-4b44-f4de-fc2a46ead362"
      },
      "execution_count": 61,
      "outputs": [
        {
          "output_type": "stream",
          "name": "stdout",
          "text": [
            "enter the numbers seperated by space: hello\n",
            "Error: invalid literal for int() with base 10: 'hello'\n",
            "Program has finished running.\n"
          ]
        }
      ]
    },
    {
      "cell_type": "markdown",
      "source": [
        "**Exercise 7**:\n",
        "\n",
        "Write a Python program that prompts the user to input a filename and writes a string to that file. Use try-except blocks to handle any exceptions that might occur and print a welcome message if there is no exception occurred.\n"
      ],
      "metadata": {
        "id": "I-JT8vP2Sszy"
      }
    },
    {
      "cell_type": "code",
      "source": [
        "def file_writing():\n",
        "    try:\n",
        "        filename = input(\"Enter the filename to write to: \")  # Prompting user for filename\n",
        "        content = input(\"Enter the content to write: \")  # Prompting user for content\n",
        "\n",
        "        with open(filename, 'w') as file:\n",
        "            file.write(content)\n",
        "\n",
        "        print(\"The file has been successfully written.Welcome!\")\n",
        "\n",
        "    except Exception as e:\n",
        "        print(f\"An error occurred: {e}\")"
      ],
      "metadata": {
        "id": "YahvVRp5S17t"
      },
      "execution_count": 64,
      "outputs": []
    },
    {
      "cell_type": "code",
      "source": [
        "#example1\n",
        "file_writing()"
      ],
      "metadata": {
        "colab": {
          "base_uri": "https://localhost:8080/"
        },
        "id": "zdVi9-1EU8hk",
        "outputId": "dfed0576-f0f7-4cd4-8bb3-4650975dec2f"
      },
      "execution_count": 66,
      "outputs": [
        {
          "output_type": "stream",
          "name": "stdout",
          "text": [
            "Enter the filename to write to: Python\n",
            "Enter the content to write: Python is a versatile, high-level programming language known for its simplicity and readability.\n",
            "The file has been successfully written.Welcome!\n"
          ]
        }
      ]
    },
    {
      "cell_type": "code",
      "source": [
        "#example2\n",
        "file_writing()"
      ],
      "metadata": {
        "colab": {
          "base_uri": "https://localhost:8080/"
        },
        "id": "6O2TzXabVtBf",
        "outputId": "4f055aa3-f3a7-478a-cd13-6d11fbeb901b"
      },
      "execution_count": 67,
      "outputs": [
        {
          "output_type": "stream",
          "name": "stdout",
          "text": [
            "Enter the filename to write to: \n",
            "Enter the content to write: \n",
            "An error occurred: [Errno 2] No such file or directory: ''\n"
          ]
        }
      ]
    }
  ]
}