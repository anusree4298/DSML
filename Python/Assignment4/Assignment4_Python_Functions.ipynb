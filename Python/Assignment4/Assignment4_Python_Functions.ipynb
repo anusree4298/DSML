{
  "nbformat": 4,
  "nbformat_minor": 0,
  "metadata": {
    "colab": {
      "provenance": []
    },
    "kernelspec": {
      "name": "python3",
      "display_name": "Python 3"
    },
    "language_info": {
      "name": "python"
    }
  },
  "cells": [
    {
      "cell_type": "markdown",
      "source": [
        "**Question 1**\n",
        "\n",
        "What does the len() function do in Python? Write a code example using len() to find the length of a list."
      ],
      "metadata": {
        "id": "u3dy5HZI6XUp"
      }
    },
    {
      "cell_type": "markdown",
      "source": [
        "Ans:\n",
        "\n",
        "len() function is an informational function used in python to return the number of items in an object or if the object is a string, the len() function returns the number of characters in the string"
      ],
      "metadata": {
        "id": "WvWXLtgG6c3v"
      }
    },
    {
      "cell_type": "code",
      "source": [
        "list=[1,2,4,6,8,9,6]\n",
        "print('Length of the list is:',len(list))\n",
        "string='Alphabets'\n",
        "print('No of characters in the string  is:',len(string))"
      ],
      "metadata": {
        "colab": {
          "base_uri": "https://localhost:8080/"
        },
        "id": "XxTi2GN67KIB",
        "outputId": "f6beb965-5e91-4c0c-f075-60c681d37153"
      },
      "execution_count": 4,
      "outputs": [
        {
          "output_type": "stream",
          "name": "stdout",
          "text": [
            "Length of the list is: 7\n",
            "No of characters in the string  is: 9\n"
          ]
        }
      ]
    },
    {
      "cell_type": "markdown",
      "source": [
        "**Question 2**\n",
        "\n",
        "Write a Python function greet(name) that takes a person's name as input and prints \"Hello, [name]!\"."
      ],
      "metadata": {
        "id": "-QLiZ_zB8Tof"
      }
    },
    {
      "cell_type": "code",
      "source": [
        "def greet_person():\n",
        "  name=input(\"Enter your name : \")\n",
        "  print(f'Hello,{name}!')"
      ],
      "metadata": {
        "id": "-hD4CgV_8bCH"
      },
      "execution_count": 6,
      "outputs": []
    },
    {
      "cell_type": "code",
      "source": [
        "greet_person()"
      ],
      "metadata": {
        "colab": {
          "base_uri": "https://localhost:8080/"
        },
        "id": "BURAJGc58-oZ",
        "outputId": "cbc20fea-aec7-4750-c9ea-1f4970782d71"
      },
      "execution_count": 7,
      "outputs": [
        {
          "output_type": "stream",
          "name": "stdout",
          "text": [
            "Enter your name  Anusree\n",
            "Hello,Anusree!\n"
          ]
        }
      ]
    },
    {
      "cell_type": "markdown",
      "source": [
        "**Question 3**\n",
        "\n",
        "Write a Python function find_maximum(numbers) that takes a list of integers and returns the maximum value without using the built-in max() function. Use a loop to iterate through the list and compare values."
      ],
      "metadata": {
        "id": "z7vUGUqd-OSq"
      }
    },
    {
      "cell_type": "code",
      "source": [
        "# method 1 : if the list has to be provided from the program side\n",
        "\n",
        "list=[1,2,4,6,8,9,6]\n",
        "def find_maximum(*numbers):\n",
        "  max=0\n",
        "  for i in list:\n",
        "     if i>max:\n",
        "      max=i\n",
        "     else:\n",
        "      max=max\n",
        "      i+=1\n",
        "  print(max)"
      ],
      "metadata": {
        "id": "-cVXOEzc-WUV"
      },
      "execution_count": 21,
      "outputs": []
    },
    {
      "cell_type": "code",
      "source": [
        "find_maximum()"
      ],
      "metadata": {
        "colab": {
          "base_uri": "https://localhost:8080/"
        },
        "id": "rTHKbGSr_hJn",
        "outputId": "81842311-f98e-4bdb-e217-5ec35e907d34"
      },
      "execution_count": 22,
      "outputs": [
        {
          "output_type": "stream",
          "name": "stdout",
          "text": [
            "9\n"
          ]
        }
      ]
    },
    {
      "cell_type": "code",
      "source": [
        "# method 2 : if the list has to be provided from the user side\n",
        "\n",
        "def find_maximum(*numbers):\n",
        "  list=[int(x) for x in input('enter the numbers seperated by space: ').split()]\n",
        "  print('The list of numbers entered is: ',list)\n",
        "  max=0\n",
        "  for i in list:\n",
        "     if i>max:\n",
        "      max=i\n",
        "     else:\n",
        "      max=max\n",
        "      i+=1\n",
        "  print('The maximum value among the list is: ',max)\n"
      ],
      "metadata": {
        "id": "wdJVgzbbA5Ps"
      },
      "execution_count": 36,
      "outputs": []
    },
    {
      "cell_type": "code",
      "source": [
        "find_maximum()\n"
      ],
      "metadata": {
        "colab": {
          "base_uri": "https://localhost:8080/"
        },
        "id": "vXKgHcnXCVa1",
        "outputId": "9964e677-1704-471e-c929-07e2e7c2b443"
      },
      "execution_count": 37,
      "outputs": [
        {
          "output_type": "stream",
          "name": "stdout",
          "text": [
            "enter the numbers seperated by space: 45 56 895 75 2 123 11\n",
            "The list of numbers entered is:  [45, 56, 895, 75, 2, 123, 11]\n",
            "The maximum value among the list is:  895\n"
          ]
        }
      ]
    },
    {
      "cell_type": "markdown",
      "source": [
        "**Question 4**\n",
        "\n",
        "Explain the difference between local and global variables in a Python function. Write a program where a global variable and a local variable have the same name and show how Python differentiates between them."
      ],
      "metadata": {
        "id": "OD25MC7uD5L_"
      }
    },
    {
      "cell_type": "markdown",
      "source": [
        "Ans:\n",
        "\n",
        "***Local variables*** :The variables that are defined inside the function are called local variables.They can be accessed from within the function and are no longer available after the function returns.\n",
        "\n",
        "***Global variables*** :The variables that are defined outside the function are called local variables.They can be accessed from anywhere in the program including within the function.\n"
      ],
      "metadata": {
        "id": "_HN_k7s6Eo46"
      }
    },
    {
      "cell_type": "code",
      "source": [
        "var=12   # variable defined outside the function i.e., global variable\n",
        "\n",
        "def local_and_global_vars():\n",
        "  var=45 # variable defined inside the function i.e., local variable(with the same name)\n",
        "  print('Local Variable value =',var)\n",
        "\n",
        "local_and_global_vars()\n",
        "\n",
        "print('Global Variable value =',var)"
      ],
      "metadata": {
        "colab": {
          "base_uri": "https://localhost:8080/"
        },
        "id": "YMLlEVbeF_b-",
        "outputId": "529c674a-9d3f-4539-f027-0636e38cbde1"
      },
      "execution_count": 39,
      "outputs": [
        {
          "output_type": "stream",
          "name": "stdout",
          "text": [
            "Local Variable value = 45\n",
            "Global Variable value = 12\n"
          ]
        }
      ]
    },
    {
      "cell_type": "markdown",
      "source": [
        "**Question 5**\n",
        "\n",
        "Create a function calculate_area(length, width=5) that calculates the area of a rectangle. If only the length is provided, the function should assume the width is 5. Show how the function behaves when called with and without the width argument.\n",
        "\n",
        "\n"
      ],
      "metadata": {
        "id": "2HulwTGIHRn4"
      }
    },
    {
      "cell_type": "code",
      "source": [
        "# method 1: providing length from the program side\n",
        "\n",
        "def calculate_area(length, width=5):\n",
        "  return (length*width)"
      ],
      "metadata": {
        "id": "-dWoMkodHRM8"
      },
      "execution_count": 52,
      "outputs": []
    },
    {
      "cell_type": "code",
      "source": [
        "# when width is provided\n",
        "calculate_area(4,6)"
      ],
      "metadata": {
        "colab": {
          "base_uri": "https://localhost:8080/"
        },
        "id": "Ys_5_Z3lIa2_",
        "outputId": "a7b7bdfe-6cfb-4a41-b50c-4b1b145436fc"
      },
      "execution_count": 48,
      "outputs": [
        {
          "output_type": "execute_result",
          "data": {
            "text/plain": [
              "24"
            ]
          },
          "metadata": {},
          "execution_count": 48
        }
      ]
    },
    {
      "cell_type": "code",
      "source": [
        "# when width is not provided\n",
        "calculate_area(6)"
      ],
      "metadata": {
        "colab": {
          "base_uri": "https://localhost:8080/"
        },
        "id": "Vqti1FxXI4KO",
        "outputId": "524f0799-01f9-42c8-82d1-8dca54df77f2"
      },
      "execution_count": 49,
      "outputs": [
        {
          "output_type": "execute_result",
          "data": {
            "text/plain": [
              "30"
            ]
          },
          "metadata": {},
          "execution_count": 49
        }
      ]
    },
    {
      "cell_type": "code",
      "source": [
        "# method 2: providing length from the user side\n",
        "#the output represents the value when the width is  provided\n",
        "\n",
        "def calculated_area():\n",
        "  length=float(input('enter length in meters:'))\n",
        "  width=input('enter width in meters:')\n",
        "  if width=='':\n",
        "    width=5\n",
        "  else:\n",
        "    width= float(width)\n",
        "  return length*width\n",
        "\n",
        "cal_area=calculated_area()\n",
        "print('Area=',cal_area,'m^2')\n",
        "\n"
      ],
      "metadata": {
        "colab": {
          "base_uri": "https://localhost:8080/"
        },
        "id": "D3D3YLexJd2j",
        "outputId": "5982c027-36b3-4a54-a70e-48f67b36ea33"
      },
      "execution_count": 60,
      "outputs": [
        {
          "output_type": "stream",
          "name": "stdout",
          "text": [
            "enter length in meters:6\n",
            "enter width in meters:4\n",
            "Area= 24.0 m^2\n"
          ]
        }
      ]
    },
    {
      "cell_type": "code",
      "source": [
        "#same code as above to show how it works if the width is not provided\n",
        "\n",
        "def calculated_area():\n",
        "  length=float(input('enter length in meters:'))\n",
        "  width=input('enter width in meters:')\n",
        "  if width=='':\n",
        "    width=5\n",
        "  else:\n",
        "    width= float(width)\n",
        "  return length*width\n",
        "\n",
        "cal_area=calculated_area()\n",
        "print('Area=',cal_area,'m^2')"
      ],
      "metadata": {
        "colab": {
          "base_uri": "https://localhost:8080/"
        },
        "id": "krQkIN7CLsbp",
        "outputId": "8b635ada-7f18-4bae-c6a6-d0a1a9152a1c"
      },
      "execution_count": 61,
      "outputs": [
        {
          "output_type": "stream",
          "name": "stdout",
          "text": [
            "enter length in meters:6\n",
            "enter width in meters:\n",
            "Area= 30.0 m^2\n"
          ]
        }
      ]
    }
  ]
}