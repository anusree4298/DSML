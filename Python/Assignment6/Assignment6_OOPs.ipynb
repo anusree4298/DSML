{
  "nbformat": 4,
  "nbformat_minor": 0,
  "metadata": {
    "colab": {
      "provenance": []
    },
    "kernelspec": {
      "name": "python3",
      "display_name": "Python 3"
    },
    "language_info": {
      "name": "python"
    }
  },
  "cells": [
    {
      "cell_type": "markdown",
      "source": [
        "**Question 1:**\n",
        "\n",
        "Build a program to manage a university's course catalog. You want to define a base class Course that has the following properties:\n",
        "\n",
        "course_code: a string representing the course code (e.g., \"CS101\")\n",
        "\n",
        "course_name: a string representing the course name (e.g., \"Introduction to Computer Science\")\n",
        "\n",
        "credit_hours: an integer representing the credit hours for the course (e.g., 3)\n",
        "\n",
        "You also want to define two subclasses CoreCourse and ElectiveCourse, which inherit from the Course class.\n",
        "\n",
        "CoreCourse should have an additional property required_for_major which is a boolean representing whether the course is required for a particular major.\n",
        "\n",
        "ElectiveCourse should have an additional property elective_type which is a string representing the type of elective (e.g., \"general\", \"technical\", \"liberal arts\").\n"
      ],
      "metadata": {
        "id": "ib4OKU9lVRw5"
      }
    },
    {
      "cell_type": "code",
      "source": [
        "#University Catalog\n",
        "\n",
        "#creating the base class with given attributes\n",
        "class Course:\n",
        "  def __init__(self,course_code,course_name,credit_hours):\n",
        "    self.course_code = course_code\n",
        "    self.course_name=  course_name\n",
        "    self.credit_hours = credit_hours\n",
        "\n",
        "#function for displaying the information\n",
        "\n",
        "  def course_info(self):\n",
        "    return f\"Course code:{self.course_code},Course name:{self.course_name},Credit_hours:{self.credit_hours}\"\n",
        "\n"
      ],
      "metadata": {
        "id": "jFEnEbTSVm9H"
      },
      "execution_count": 11,
      "outputs": []
    },
    {
      "cell_type": "code",
      "source": [
        "#example object creation\n",
        "\n",
        "course1 = Course(\"CS101\", \"Introduction to Computer Science\",3)\n",
        "print(course1.course_info())"
      ],
      "metadata": {
        "colab": {
          "base_uri": "https://localhost:8080/"
        },
        "id": "T3d1y1raXxyS",
        "outputId": "cee71d15-9be2-4e24-dfe8-1013f91cca98"
      },
      "execution_count": 14,
      "outputs": [
        {
          "output_type": "stream",
          "name": "stdout",
          "text": [
            "Course code:CS101,Course name:Introduction to Computer Science,Credit_hours:3\n"
          ]
        }
      ]
    },
    {
      "cell_type": "code",
      "source": [
        "#creating subclasess\n",
        "\n",
        "#CoreCourse\n",
        "class CoreCourse(Course):\n",
        "  def __init__(self,course_code,course_name,credit_hours,required_for_major):\n",
        "    super().__init__(course_code,course_name,credit_hours)\n",
        "    self.required_for_major=required_for_major\n",
        "\n",
        "  def course_info(self):\n",
        "    required_for_major=\"Yes\" if self.required_for_major else \"No\"\n",
        "    return f\"{super().course_info()},Required for major,{self.required_for_major}\"\n",
        "\n",
        "# ElectiveCourse\n",
        "class ElectiveCourse(Course):\n",
        "  def __init__(self,course_code,course_name,credit_hours, elective_type):\n",
        "    super().__init__(course_code,course_name,credit_hours)\n",
        "    self. elective_type= elective_type\n",
        "\n",
        "  def course_info(self):\n",
        "     return f\"{super().course_info()},Elective type:{self.elective_type}\""
      ],
      "metadata": {
        "id": "DpDswotdZYO6"
      },
      "execution_count": 24,
      "outputs": []
    },
    {
      "cell_type": "code",
      "source": [
        "#example object creation\n",
        "course1 = CoreCourse(\"CS101\", \"Introduction to Computer Science\",3,True)\n",
        "course2 = ElectiveCourse(\"RM001\",\"Research Methodology\",2,\"General\")\n",
        "print(course1.course_info())\n",
        "print(course2.course_info())"
      ],
      "metadata": {
        "colab": {
          "base_uri": "https://localhost:8080/"
        },
        "id": "Jw4IjTgMdAwe",
        "outputId": "64cedce1-9313-4bfe-994a-ba899fc2240f"
      },
      "execution_count": 26,
      "outputs": [
        {
          "output_type": "stream",
          "name": "stdout",
          "text": [
            "Course code:CS101,Course name:Introduction to Computer Science,Credit_hours:3,Required for major,True\n",
            "Course code:RM001,Course name:Research Methodology,Credit_hours:2,Elective type:General\n"
          ]
        }
      ]
    },
    {
      "cell_type": "markdown",
      "source": [
        "**Question 2:**\n",
        "\n",
        "Create a Python module named employee that contains a class Employee with attributes name, salary and methods get_name() and get_salary(). Write a program to use this module to create an object of the Employee class and display its name and salary."
      ],
      "metadata": {
        "id": "T7MGJbuhiJi0"
      }
    },
    {
      "cell_type": "code",
      "source": [
        "class  Employee:\n",
        "  def __init__(self,emp_name,emp_salary):\n",
        "    self.emp_name = emp_name\n",
        "    self.emp_salary = emp_salary\n",
        "  def get_name(self):\n",
        "   return f\"Name of the employee: {self.emp_name}\"\n",
        "  def get_salary(self):\n",
        "   return f\"Salary of the employee: {self.emp_salary}\"\n"
      ],
      "metadata": {
        "id": "x_S79lTciU_I"
      },
      "execution_count": 33,
      "outputs": []
    },
    {
      "cell_type": "code",
      "source": [
        "#example object creation\n",
        "\n",
        "employee1 = Employee(\"Sheena\", 25000)\n",
        "print(employee1.get_name())\n",
        "print(employee1.get_salary())"
      ],
      "metadata": {
        "colab": {
          "base_uri": "https://localhost:8080/"
        },
        "outputId": "1327564a-9560-4751-f8dc-83aa388b13cc",
        "id": "frc1aeYjn9-A"
      },
      "execution_count": 34,
      "outputs": [
        {
          "output_type": "stream",
          "name": "stdout",
          "text": [
            "Name of the employee: Sheena\n",
            "Salary of the employee: 25000\n"
          ]
        }
      ]
    }
  ]
}