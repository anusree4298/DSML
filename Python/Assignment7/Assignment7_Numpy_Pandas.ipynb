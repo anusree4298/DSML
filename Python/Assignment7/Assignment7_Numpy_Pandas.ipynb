{
  "nbformat": 4,
  "nbformat_minor": 0,
  "metadata": {
    "colab": {
      "provenance": []
    },
    "kernelspec": {
      "name": "python3",
      "display_name": "Python 3"
    },
    "language_info": {
      "name": "python"
    }
  },
  "cells": [
    {
      "cell_type": "markdown",
      "source": [
        "**Exercise 1**:\n",
        "\n",
        "Create a numpy array containing the numbers from 1 to 10, and then reshape it to a 2x5 matrix.\n"
      ],
      "metadata": {
        "id": "QNMKLNQaTK6g"
      }
    },
    {
      "cell_type": "code",
      "source": [
        "import numpy as np\n",
        "\n",
        "arr = np.arange(1,11)\n",
        "print(\"The array is:\\n\", arr)\n",
        "\n",
        "matrix= arr.reshape(2,5)\n",
        "print(\"The reshaped matrix is:\\n\",matrix)"
      ],
      "metadata": {
        "colab": {
          "base_uri": "https://localhost:8080/"
        },
        "id": "Hz6QADcxTRaQ",
        "outputId": "14902bdd-5c82-44bb-9fe7-08bc916895ed"
      },
      "execution_count": 10,
      "outputs": [
        {
          "output_type": "stream",
          "name": "stdout",
          "text": [
            "The array is:\n",
            " [ 1  2  3  4  5  6  7  8  9 10]\n",
            "The reshaped matrix is:\n",
            " [[ 1  2  3  4  5]\n",
            " [ 6  7  8  9 10]]\n"
          ]
        }
      ]
    },
    {
      "cell_type": "markdown",
      "source": [
        "**Exercise 2**:\n",
        "\n",
        "Create a numpy array containing the numbers from 1 to 20, and then extract the elements between the 5th and 15th index.\n"
      ],
      "metadata": {
        "id": "RNXEk1dqUu4k"
      }
    },
    {
      "cell_type": "code",
      "source": [
        "import numpy as np\n",
        "\n",
        "arr = np.arange(1,21)\n",
        "print(\"The array is \\n\",arr)\n",
        "\n",
        "extracted_array= arr[5:15]\n",
        "print(\"The extracted array is \\n\",extracted_array)"
      ],
      "metadata": {
        "colab": {
          "base_uri": "https://localhost:8080/"
        },
        "id": "Vhy95QH8U3Hp",
        "outputId": "bff39444-04ca-45dc-916d-1018465e9e73"
      },
      "execution_count": 12,
      "outputs": [
        {
          "output_type": "stream",
          "name": "stdout",
          "text": [
            "The array is \n",
            " [ 1  2  3  4  5  6  7  8  9 10 11 12 13 14 15 16 17 18 19 20]\n",
            "The extracted array is \n",
            " [ 6  7  8  9 10 11 12 13 14 15]\n"
          ]
        }
      ]
    },
    {
      "cell_type": "markdown",
      "source": [
        "**Exercise 3**:\n",
        "\n",
        "Create a Pandas series with the following data: {'apples': 3, 'bananas': 2, 'oranges': 1}. Then, add a new item to the series with the key 'pears' and the value 4."
      ],
      "metadata": {
        "id": "zUGfMu1tWD4H"
      }
    },
    {
      "cell_type": "code",
      "source": [
        "import pandas as pd\n",
        "\n",
        "fruits = pd.Series({'apples': 3, 'bananas': 2, 'oranges': 1})\n",
        "print(\"The series of fruits is \\n\",fruits,\"\\n\")\n",
        "\n",
        "fruits['Pears']=4\n",
        "print(\"The new series of fruits is \\n\",fruits)"
      ],
      "metadata": {
        "colab": {
          "base_uri": "https://localhost:8080/"
        },
        "id": "93HitEoZWrRz",
        "outputId": "8604e113-9ea5-4bc5-c585-c8e03a710951"
      },
      "execution_count": 21,
      "outputs": [
        {
          "output_type": "stream",
          "name": "stdout",
          "text": [
            "The series of fruits is \n",
            " apples     3\n",
            "bananas    2\n",
            "oranges    1\n",
            "dtype: int64 \n",
            "\n",
            "The new series of fruits is \n",
            " apples     3\n",
            "bananas    2\n",
            "oranges    1\n",
            "Pears      4\n",
            "dtype: int64\n"
          ]
        }
      ]
    },
    {
      "cell_type": "markdown",
      "source": [
        "**Exercise 4:**\n",
        "\n",
        "Create a dataframe with the following columns: name, age, and gender. The dataframe should have 10 rows of data.\n"
      ],
      "metadata": {
        "id": "77pHRpB9X9_3"
      }
    },
    {
      "cell_type": "code",
      "source": [
        "import pandas as pd\n",
        "\n",
        "data={\n",
        "    'Name':['John','Victor','Gopan','Manoj','Mohan','Antony','Sneha','Binoy','Megha','Deepa'],\n",
        "    'Age':[25, 30, 22, 28, 26, 35, 24, 29, 27, 32],\n",
        "    'Gender':['Male','Male','Male','Male','Male','Male','Female','Male','Female','Female']\n",
        "    }\n",
        "df = pd.DataFrame(data)\n",
        "print(df)"
      ],
      "metadata": {
        "colab": {
          "base_uri": "https://localhost:8080/"
        },
        "id": "McWKFFEyYMGh",
        "outputId": "a6536e3b-5d9a-4015-ac7d-1bbb8a2a5cc0"
      },
      "execution_count": 34,
      "outputs": [
        {
          "output_type": "stream",
          "name": "stdout",
          "text": [
            "     Name  Age  Gender\n",
            "0    John   25    Male\n",
            "1  Victor   30    Male\n",
            "2   Gopan   22    Male\n",
            "3   Manoj   28    Male\n",
            "4   Mohan   26    Male\n",
            "5  Antony   35    Male\n",
            "6   Sneha   24  Female\n",
            "7   Binoy   29    Male\n",
            "8   Megha   27  Female\n",
            "9   Deepa   32  Female\n"
          ]
        }
      ]
    },
    {
      "cell_type": "markdown",
      "source": [
        "**Exercise 5**:\n",
        "\n",
        "Add a new column to the data frame created in question 1, called occupation. The values for this column should be Programmer, Manager, and Analyst, corresponding to the rows in the dataframe.\n"
      ],
      "metadata": {
        "id": "W302TFo6aR_S"
      }
    },
    {
      "cell_type": "code",
      "source": [
        "occupations=[ 'Programmer', 'Manager', 'Analyst',' Programmer', 'Manager','Analyst' ,'Programmer', 'Manager','Analyst','Programmer']\n",
        "df['Occupation']=occupations\n",
        "print(df)"
      ],
      "metadata": {
        "colab": {
          "base_uri": "https://localhost:8080/"
        },
        "id": "PRP67lQGaXge",
        "outputId": "9181b771-7045-4a80-d13e-107958a38cee"
      },
      "execution_count": 35,
      "outputs": [
        {
          "output_type": "stream",
          "name": "stdout",
          "text": [
            "     Name  Age  Gender   Occupation\n",
            "0    John   25    Male   Programmer\n",
            "1  Victor   30    Male      Manager\n",
            "2   Gopan   22    Male      Analyst\n",
            "3   Manoj   28    Male   Programmer\n",
            "4   Mohan   26    Male      Manager\n",
            "5  Antony   35    Male      Analyst\n",
            "6   Sneha   24  Female   Programmer\n",
            "7   Binoy   29    Male      Manager\n",
            "8   Megha   27  Female      Analyst\n",
            "9   Deepa   32  Female   Programmer\n"
          ]
        }
      ]
    },
    {
      "cell_type": "markdown",
      "source": [
        "\n",
        "**Exercise 6:**\n",
        "\n",
        "Select the rows of the dataframe where the age is greater than or equal to 30\n"
      ],
      "metadata": {
        "id": "MhduX5F0bp02"
      }
    },
    {
      "cell_type": "code",
      "source": [
        "print(\"People with age greater than or equal to 30 \\n\",df[df['Age']>=30])"
      ],
      "metadata": {
        "colab": {
          "base_uri": "https://localhost:8080/"
        },
        "id": "BDFiW5ndbwDM",
        "outputId": "0773bb7f-bfbf-4599-f268-ecdfc2a5b112"
      },
      "execution_count": 31,
      "outputs": [
        {
          "output_type": "stream",
          "name": "stdout",
          "text": [
            "People with age greater than or equal to 30 \n",
            "      Name  Age  Gender  Occupation\n",
            "1  Victor   30    Male     Manager\n",
            "5  Antony   35    Male     Analyst\n",
            "9   Deepa   32  Female  Programmer\n"
          ]
        }
      ]
    },
    {
      "cell_type": "markdown",
      "source": [
        "**Exercise 7**:\n",
        "\n",
        "Convert this dataframe to a csv file and read that csv file, finally display the contents.\n"
      ],
      "metadata": {
        "id": "CtijZLX3dctF"
      }
    },
    {
      "cell_type": "code",
      "source": [
        "df.to_csv(\"data.csv\",index=False)\n",
        "read_df=pd.read_csv(\"data.csv\")\n",
        "print(read_df)"
      ],
      "metadata": {
        "colab": {
          "base_uri": "https://localhost:8080/"
        },
        "id": "ZHf2bbrWdWvO",
        "outputId": "b7174b31-0262-4141-cffe-04db525007c9"
      },
      "execution_count": 42,
      "outputs": [
        {
          "output_type": "stream",
          "name": "stdout",
          "text": [
            "     Name  Age  Gender   Occupation\n",
            "0    John   25    Male   Programmer\n",
            "1  Victor   30    Male      Manager\n",
            "2   Gopan   22    Male      Analyst\n",
            "3   Manoj   28    Male   Programmer\n",
            "4   Mohan   26    Male      Manager\n",
            "5  Antony   35    Male      Analyst\n",
            "6   Sneha   24  Female   Programmer\n",
            "7   Binoy   29    Male      Manager\n",
            "8   Megha   27  Female      Analyst\n",
            "9   Deepa   32  Female   Programmer\n"
          ]
        }
      ]
    }
  ]
}