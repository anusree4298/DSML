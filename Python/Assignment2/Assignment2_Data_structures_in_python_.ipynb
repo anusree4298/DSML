{
  "nbformat": 4,
  "nbformat_minor": 0,
  "metadata": {
    "colab": {
      "provenance": []
    },
    "kernelspec": {
      "name": "python3",
      "display_name": "Python 3"
    },
    "language_info": {
      "name": "python"
    }
  },
  "cells": [
    {
      "cell_type": "markdown",
      "source": [
        "# **Topic :List**\n",
        "\n",
        " Q1. Create a list of 5 random numbers and print the list.\n",
        "\n",
        " Q2. Insert 3 new values to the list and print the updated list.\n",
        "\n",
        "Q3. Try to use a for loop to print each element in the list.\n",
        "\n",
        "\n"
      ],
      "metadata": {
        "id": "iyEsZSTEQw5O"
      }
    },
    {
      "cell_type": "code",
      "execution_count": 3,
      "metadata": {
        "colab": {
          "base_uri": "https://localhost:8080/"
        },
        "id": "guQY4a9oQnPE",
        "outputId": "e7cbb463-bed8-4540-c2b9-40b27b0045d5"
      },
      "outputs": [
        {
          "output_type": "stream",
          "name": "stdout",
          "text": [
            "list of 5 random numbers = [5, 9, 3, 4, 6]\n"
          ]
        }
      ],
      "source": [
        "# Q1 : Create a list of 5 random numbers and print the list.\n",
        "random_list=[5,9,3,4,6]\n",
        "print('list of 5 random numbers =',random_list)"
      ]
    },
    {
      "cell_type": "code",
      "source": [
        "# Q2. Insert 3 new values to the list and print the updated list.\n",
        "random_list[5:5] =[7,8,1]\n",
        "print('updated list =',random_list)"
      ],
      "metadata": {
        "colab": {
          "base_uri": "https://localhost:8080/"
        },
        "id": "--mx7VhxSVSU",
        "outputId": "a9a8830a-5121-4cc9-8c07-c052bbeebc59"
      },
      "execution_count": 4,
      "outputs": [
        {
          "output_type": "stream",
          "name": "stdout",
          "text": [
            "updated list = [5, 9, 3, 4, 6, 7, 8, 1]\n"
          ]
        }
      ]
    },
    {
      "cell_type": "code",
      "source": [
        "# Q3. Try to use a for loop to print each element in the list.\n",
        "for i in random_list:\n",
        "  print (i)"
      ],
      "metadata": {
        "colab": {
          "base_uri": "https://localhost:8080/"
        },
        "id": "gt8DVVKSTxeR",
        "outputId": "cc291f0f-e288-4261-87fd-b81c719470c5"
      },
      "execution_count": 6,
      "outputs": [
        {
          "output_type": "stream",
          "name": "stdout",
          "text": [
            "5\n",
            "9\n",
            "3\n",
            "4\n",
            "6\n",
            "7\n",
            "8\n",
            "1\n"
          ]
        }
      ]
    },
    {
      "cell_type": "markdown",
      "source": [
        "# **Topic :Dictionary**\n",
        "\n",
        " Q1. Create a dictionary with keys 'name', 'age', and 'address' and values 'John', 25, and 'New York' respectively.\n",
        "\n",
        "\n",
        " Q2.Add a new key-value pair to the dictionary created in Q1 with key 'phone' and value '1234567890'."
      ],
      "metadata": {
        "id": "piJGQaI5UK9u"
      }
    },
    {
      "cell_type": "code",
      "source": [
        "# Q1: Create a dictionary with keys 'name', 'age', and 'address' and values 'John', 25, and 'New York' respectively.\n",
        "\n",
        "People = {'Name':'John', 'Age':25,'Address':'New York'}\n",
        "People"
      ],
      "metadata": {
        "colab": {
          "base_uri": "https://localhost:8080/"
        },
        "id": "YOXgA2HnUcTK",
        "outputId": "2cd41622-71fb-4e51-a426-2db301a8b743"
      },
      "execution_count": 11,
      "outputs": [
        {
          "output_type": "execute_result",
          "data": {
            "text/plain": [
              "{'Name': 'John', 'Age': 25, 'Address': 'New York'}"
            ]
          },
          "metadata": {},
          "execution_count": 11
        }
      ]
    },
    {
      "cell_type": "code",
      "source": [
        "# Q2.Add a new key-value pair to the dictionary created in Q1 with key 'phone' and value '1234567890'.\n",
        "People['Phone']=1234567890\n",
        "People"
      ],
      "metadata": {
        "colab": {
          "base_uri": "https://localhost:8080/"
        },
        "id": "PX9-WU82VW6h",
        "outputId": "119db208-4d42-44f5-aef0-43c28afba697"
      },
      "execution_count": 12,
      "outputs": [
        {
          "output_type": "execute_result",
          "data": {
            "text/plain": [
              "{'Name': 'John', 'Age': 25, 'Address': 'New York', 'Phone': 1234567890}"
            ]
          },
          "metadata": {},
          "execution_count": 12
        }
      ]
    },
    {
      "cell_type": "markdown",
      "source": [
        "# **Topic :Set**\n",
        "\n",
        "Q1.Create a set with values 1, 2, 3, 4, and 5.\n",
        "\n",
        "Q2. Add the value 6 to the set created in Q1.\n",
        "\n",
        "Q3. Remove the value 3 from the set created in Q1.\n"
      ],
      "metadata": {
        "id": "7Q9neTlaWvbz"
      }
    },
    {
      "cell_type": "code",
      "source": [
        "# Q1.Create a set with values 1, 2, 3, 4, and 5\n",
        "Set={1,2,3,4,5}\n",
        "Set"
      ],
      "metadata": {
        "colab": {
          "base_uri": "https://localhost:8080/"
        },
        "id": "hOeIyUh3W9oB",
        "outputId": "0c1b6db7-6c40-45eb-aad8-747a682ac4f4"
      },
      "execution_count": 13,
      "outputs": [
        {
          "output_type": "execute_result",
          "data": {
            "text/plain": [
              "{1, 2, 3, 4, 5}"
            ]
          },
          "metadata": {},
          "execution_count": 13
        }
      ]
    },
    {
      "cell_type": "code",
      "source": [
        "# Q2. Add the value 6 to the set created in Q1.\n",
        "Set.add(6)\n",
        "Set"
      ],
      "metadata": {
        "colab": {
          "base_uri": "https://localhost:8080/"
        },
        "id": "MMbb_GtbXA7_",
        "outputId": "c6e2ed94-5eea-4db5-deaf-ba25ac024603"
      },
      "execution_count": 14,
      "outputs": [
        {
          "output_type": "execute_result",
          "data": {
            "text/plain": [
              "{1, 2, 3, 4, 5, 6}"
            ]
          },
          "metadata": {},
          "execution_count": 14
        }
      ]
    },
    {
      "cell_type": "code",
      "source": [
        "# Q3. Remove the value 3 from the set created in Q1.\n",
        "Set.remove(3)\n",
        "Set"
      ],
      "metadata": {
        "colab": {
          "base_uri": "https://localhost:8080/"
        },
        "id": "Cdp4Hv-tXJ-s",
        "outputId": "1269b34a-f889-46d8-a356-add681844e44"
      },
      "execution_count": 15,
      "outputs": [
        {
          "output_type": "execute_result",
          "data": {
            "text/plain": [
              "{1, 2, 4, 5, 6}"
            ]
          },
          "metadata": {},
          "execution_count": 15
        }
      ]
    },
    {
      "cell_type": "markdown",
      "source": [
        "# **Topic:Tuple**\n",
        "\n",
        "Q1. Create a tuple with values 1, 2, 3, and 4\n",
        "\n",
        "Q2. Print the length of the tuple created in Q1.\n"
      ],
      "metadata": {
        "id": "GIVJZp-dYHoW"
      }
    },
    {
      "cell_type": "code",
      "source": [
        "# Q1. Create a tuple with values 1, 2, 3, and 4\n",
        "Tuple=(1,2,3,4)\n",
        "Tuple"
      ],
      "metadata": {
        "colab": {
          "base_uri": "https://localhost:8080/"
        },
        "id": "yYegrf3eYTL6",
        "outputId": "1a72cd66-7079-4b1f-e5ec-e90062b4cc37"
      },
      "execution_count": 16,
      "outputs": [
        {
          "output_type": "execute_result",
          "data": {
            "text/plain": [
              "(1, 2, 3, 4)"
            ]
          },
          "metadata": {},
          "execution_count": 16
        }
      ]
    },
    {
      "cell_type": "code",
      "source": [
        "# Q2. Print the length of the tuple created in Q1.\n",
        "print('Length of tuple =',len(Tuple))\n"
      ],
      "metadata": {
        "colab": {
          "base_uri": "https://localhost:8080/"
        },
        "id": "OPOfCbrSYYFm",
        "outputId": "ce3122fe-1759-4d5a-9eff-37433d55bfdd"
      },
      "execution_count": 19,
      "outputs": [
        {
          "output_type": "stream",
          "name": "stdout",
          "text": [
            "Length of tuple = 4\n"
          ]
        }
      ]
    }
  ]
}