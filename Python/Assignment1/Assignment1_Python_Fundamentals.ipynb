{
  "nbformat": 4,
  "nbformat_minor": 0,
  "metadata": {
    "colab": {
      "provenance": []
    },
    "kernelspec": {
      "name": "python3",
      "display_name": "Python 3"
    },
    "language_info": {
      "name": "python"
    }
  },
  "cells": [
    {
      "cell_type": "markdown",
      "source": [
        "Exercise 1 :\n",
        "Write Python code that prints your name, student number and email address. An example runs of the program: Bob ST1001 bob@gmail.com"
      ],
      "metadata": {
        "id": "TKOvnm9AbSAZ"
      }
    },
    {
      "cell_type": "code",
      "source": [
        "Name = 'Anusree GK'\n",
        "Student_Number = 'D43DSML05'\n",
        "Email_Address= 'gkanusree1998@gmail.com'\n",
        "print(Name)\n",
        "print(Student_Number)\n",
        "print(Email_Address)"
      ],
      "metadata": {
        "colab": {
          "base_uri": "https://localhost:8080/"
        },
        "id": "l-u1vZD9bVhn",
        "outputId": "a9398dcd-174c-4f6f-c59c-b73d7ba464c7"
      },
      "execution_count": 46,
      "outputs": [
        {
          "output_type": "stream",
          "name": "stdout",
          "text": [
            "Anusree GK\n",
            "D43DSML05\n",
            "gkanusree1998@gmail.com\n"
          ]
        }
      ]
    },
    {
      "cell_type": "markdown",
      "source": [
        "Exercise 2: Write Python code that prints your name, student number and email address using escape sequences. An example runs of the program: Bob ST1001 bob@gmail.com"
      ],
      "metadata": {
        "id": "yxt-OrUQdZCC"
      }
    },
    {
      "cell_type": "code",
      "source": [
        "print('Name = Anusree GK','\\nStudent Number = D43DSML05','\\nEmail Address= gkanusree1998@gmail.com')\n"
      ],
      "metadata": {
        "colab": {
          "base_uri": "https://localhost:8080/"
        },
        "id": "rz7ZYVOCdt1y",
        "outputId": "159567a6-a178-4088-ac36-b000ab14d5b9"
      },
      "execution_count": 6,
      "outputs": [
        {
          "output_type": "stream",
          "name": "stdout",
          "text": [
            "Name = Anusree GK \n",
            "Student Number = D43DSML05 \n",
            "Email Address= gkanusree1998@gmail.com\n"
          ]
        }
      ]
    },
    {
      "cell_type": "markdown",
      "source": [
        "Exercise 3: Write Python code that add, subtract, multiply and divide the two numbers. You can use the two numbers 14 and 7. An example run of the program: 14 + 7 = 21 14 * 7 = 98 14 – 7 = 7 14 / 7 = 2"
      ],
      "metadata": {
        "id": "VDeEV3wTeS8X"
      }
    },
    {
      "cell_type": "code",
      "source": [
        "x=14\n",
        "y=7\n",
        "print(x,\"+\",y,\"=\",x + y)\n",
        "print(x,\"*\",y,\"=\",x * y)\n",
        "print(x,\"-\",y,\"=\",x - y)\n",
        "print(x,\"/\",y,\"=\",x / y)"
      ],
      "metadata": {
        "colab": {
          "base_uri": "https://localhost:8080/"
        },
        "id": "3bvP6UlQeZfl",
        "outputId": "b6320bdd-f80d-4254-e0dd-3b86664bfad6"
      },
      "execution_count": 16,
      "outputs": [
        {
          "output_type": "stream",
          "name": "stdout",
          "text": [
            "14 + 7 = 21\n",
            "14 * 7 = 98\n",
            "14 - 7 = 7\n",
            "14 / 7 = 2.0\n"
          ]
        }
      ]
    },
    {
      "cell_type": "markdown",
      "source": [
        "Exercise 4: Write Python code that displays the numbers from 1 to 5 as steps. An example runs of the program: 1 2 3 4 5\n"
      ],
      "metadata": {
        "id": "bGgwq5_0fcze"
      }
    },
    {
      "cell_type": "code",
      "source": [
        "for i in range (1,6):\n",
        "  print(i)\n",
        "\n"
      ],
      "metadata": {
        "colab": {
          "base_uri": "https://localhost:8080/"
        },
        "id": "eo7YCIjhfkc1",
        "outputId": "474bc84d-5092-456f-cb8d-4a935ae30a47"
      },
      "execution_count": 17,
      "outputs": [
        {
          "output_type": "stream",
          "name": "stdout",
          "text": [
            "1\n",
            "2\n",
            "3\n",
            "4\n",
            "5\n"
          ]
        }
      ]
    },
    {
      "cell_type": "markdown",
      "source": [
        "Exercise 5: Write Python code that outputs the following sentence (including the quotation marks and line break) to the screen: An example runs of the program: \"SDK\" stands for \"Software Development Kit\", whereas \"IDE\" stands for \"Integrated Development Environment\"."
      ],
      "metadata": {
        "id": "TH5mpNLlgV4w"
      }
    },
    {
      "cell_type": "code",
      "source": [
        "print('''\"SDK\" stands for \"Software Development Kit\", whereas \\n\"IDE\" stands for \"Integrated Development Environment\".''')"
      ],
      "metadata": {
        "colab": {
          "base_uri": "https://localhost:8080/"
        },
        "id": "k8Qu4f9ygZ1u",
        "outputId": "0e5d6cf3-21c0-4001-ae38-11178c4dcf02"
      },
      "execution_count": 52,
      "outputs": [
        {
          "output_type": "stream",
          "name": "stdout",
          "text": [
            "\"SDK\" stands for \"Software Development Kit\", whereas \n",
            "\"IDE\" stands for \"Integrated Development Environment\".\n"
          ]
        }
      ]
    },
    {
      "cell_type": "markdown",
      "source": [
        "Exercise 6 : Practice and check the output print(\"python is an \\\"awesome\\\" language.\") print(\"python\\n\\t2023\") print('I\\'m from Entri.\\b') print(\"\\65\") print(\"\\x65\") print(\"Entri\", \"2023\", sep=\"\\n\") print(\"Entri\", \"2023\", sep=\"\\b\") print(\"Entri\", \"2023\", sep=\"*\", end=\"\\b\\b\\b\\b\")"
      ],
      "metadata": {
        "id": "BDXqtq2Dhq3q"
      }
    },
    {
      "cell_type": "code",
      "source": [
        "print('''python is an \"awesome\" language.''')\n",
        "print(\"python\\n\\t2023\")\n",
        "print('''I'm from Entri.\\b''')\n",
        "print(\"\\65\")\n",
        "print(\"\\x65\")\n",
        "print(\"Entri\", \"2023\", sep=\"\\n\")\n",
        "print(\"Entri\", \"2023\", sep=\"\\b\")\n",
        "print(\"Entri\", \"2023\", sep=\"*\", end=\"\\b\\b\\b\\b\")"
      ],
      "metadata": {
        "colab": {
          "base_uri": "https://localhost:8080/"
        },
        "id": "v6IahyJrhyAk",
        "outputId": "4eedbde0-4d33-4d24-8fe4-73082f8d8c6f"
      },
      "execution_count": 23,
      "outputs": [
        {
          "output_type": "stream",
          "name": "stdout",
          "text": [
            "python is an \"awesome\" language.\n",
            "python\n",
            "\t2023\n",
            "I'm from Entri.\b\n",
            "5\n",
            "e\n",
            "Entri\n",
            "2023\n",
            "Entri\b2023\n",
            "Entri*2023\b\b\b\b"
          ]
        }
      ]
    },
    {
      "cell_type": "markdown",
      "source": [
        "Exercise 7: Define the variables below. Print the types of each variable. What is the sum of your variables? (Hint: use a type conversion function.) What datatype is the sum? num=23 textnum=\"57\" decimal=98.3"
      ],
      "metadata": {
        "id": "m_7u3OqwkIr2"
      }
    },
    {
      "cell_type": "code",
      "source": [
        "num=23\n",
        "textnum=\"57\"\n",
        "decimal=98.3\n",
        "\n",
        "print('type of num :',type(num))\n",
        "print('type of textnum :',type(textnum))\n",
        "print('type of decimal :',type(decimal))\n",
        "\n",
        "sum= num+int(textnum)+decimal\n",
        "print('sum=',sum)\n",
        "print('type of sum :',type(sum))\n"
      ],
      "metadata": {
        "colab": {
          "base_uri": "https://localhost:8080/"
        },
        "id": "6LSPfgVHkYdo",
        "outputId": "a5898f5e-4a04-4d0e-e904-bdd0bdfbadea"
      },
      "execution_count": 29,
      "outputs": [
        {
          "output_type": "stream",
          "name": "stdout",
          "text": [
            "type of num : <class 'int'>\n",
            "type of textnum : <class 'str'>\n",
            "type of decimal : <class 'float'>\n",
            "sum= 178.3\n",
            "type of sum : <class 'float'>\n"
          ]
        }
      ]
    },
    {
      "cell_type": "markdown",
      "source": [
        "Exercise 8 : calculate the number of minutes in a year using variables for each unit of time. print a statement that describes what your code does also. Create three variables to store no of days in a year, minute in a hour, hours in a day, then calculate the total minutes in a year and print the values (hint) total number of minutes in an year =No.of days in an year * Hours in a day * Minutes in an hour\n",
        "\n"
      ],
      "metadata": {
        "id": "05Y-HWQumFnv"
      }
    },
    {
      "cell_type": "code",
      "source": [
        "no_of_days_in_a_year = 365 #non-leap year\n",
        "hours_in_a_day = 24\n",
        "minute_in_a_hour = 60\n",
        "\n",
        "total_minutes_in_a_year = no_of_days_in_a_year * hours_in_a_day * minute_in_a_hour\n",
        "print(\"Number of days in a year:\", no_of_days_in_a_year)\n",
        "print(\"Number of hours in a day:\", hours_in_a_day)\n",
        "print(\"Number of minutes in an hour:\", minute_in_a_hour)\n",
        "print('total number of minutes in a non- leap year is ',total_minutes_in_a_year )"
      ],
      "metadata": {
        "colab": {
          "base_uri": "https://localhost:8080/"
        },
        "id": "hl91DtC1mXxR",
        "outputId": "d42e10aa-c698-4b79-a7b1-f53a8c9d9a08"
      },
      "execution_count": 35,
      "outputs": [
        {
          "output_type": "stream",
          "name": "stdout",
          "text": [
            "Number of days in a year: 365\n",
            "Number of hours in a day: 24\n",
            "Number of minutes in an hour: 60\n",
            "total number of minutes in a non- leap year is  525600\n"
          ]
        }
      ]
    },
    {
      "cell_type": "markdown",
      "source": [
        "Exercise 9 Write Python code that asks the user to enter his/her name and then output/prints his/her name with a greeting. An example runs of the program: Please enter you name: Tony Hi Tony, welcome to Python programming :)"
      ],
      "metadata": {
        "id": "VKK3TO_Po9rv"
      }
    },
    {
      "cell_type": "code",
      "source": [
        "User_name= input(\"Please enter your name \")\n",
        "print(\"Hi\",User_name,\", welcome to Python programming :)\")"
      ],
      "metadata": {
        "colab": {
          "base_uri": "https://localhost:8080/"
        },
        "id": "Cfw19gPJquFZ",
        "outputId": "e1d0cab4-ad4d-4325-b4a8-5f5e9f3f737c"
      },
      "execution_count": 49,
      "outputs": [
        {
          "output_type": "stream",
          "name": "stdout",
          "text": [
            "Please enter your name Tony\n",
            "Hi Tony , welcome to Python programming :)\n"
          ]
        }
      ]
    },
    {
      "cell_type": "markdown",
      "source": [
        "Exercise 10 Name your file: PoundsToDollars.py Write a program that asks the user to enter an amount in pounds (£) and the program calculates and converts an amount in dollar (\\$) An example runs of the program: Please enter amount in pounds: XXX £ XXX are $ XXX"
      ],
      "metadata": {
        "id": "uYyrrVutqs53"
      }
    },
    {
      "cell_type": "code",
      "source": [
        "#file name : PoundsToDollars.py\n",
        "# this program asks the user to enter an amount in pounds (£) and the program calculates and converts an amount in dollar ($)\n",
        "\n",
        "pounds= float(input(\"Please enter amount in pounds: \"))\n",
        "dollars= pounds*1.36\n",
        "print('£',pounds,'are $',dollars)"
      ],
      "metadata": {
        "colab": {
          "base_uri": "https://localhost:8080/"
        },
        "id": "PScsvn8hqA6h",
        "outputId": "a21b6485-8099-45d8-ad1d-dc24f0e2793e"
      },
      "execution_count": 45,
      "outputs": [
        {
          "output_type": "stream",
          "name": "stdout",
          "text": [
            "Please enter amount in pounds: 250\n",
            "£ 250.0 are $ 340.0\n"
          ]
        }
      ]
    }
  ]
}