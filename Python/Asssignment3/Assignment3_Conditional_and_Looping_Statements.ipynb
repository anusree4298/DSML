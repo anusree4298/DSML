{
  "nbformat": 4,
  "nbformat_minor": 0,
  "metadata": {
    "colab": {
      "provenance": []
    },
    "kernelspec": {
      "name": "python3",
      "display_name": "Python 3"
    },
    "language_info": {
      "name": "python"
    }
  },
  "cells": [
    {
      "cell_type": "markdown",
      "source": [
        "**Exercise 1**\n",
        "\n",
        "Name your file: MonthNames.py\n",
        "\n",
        "Write a program that reads an integer value between 1 and 12 from the user and prints output the corresponding month of the year.\n",
        "\n",
        "An example run of the program (numbers in bold are typed in by the user)\n",
        "Enter the month: 3\n",
        "Month 3 is March\n"
      ],
      "metadata": {
        "id": "_2q4n4Vidgi0"
      }
    },
    {
      "cell_type": "code",
      "execution_count": null,
      "metadata": {
        "colab": {
          "base_uri": "https://localhost:8080/"
        },
        "id": "4JYcMWtddecF",
        "outputId": "7f7cc6d7-2db0-401c-f69f-c1aaa5b73d05"
      },
      "outputs": [
        {
          "output_type": "stream",
          "name": "stdout",
          "text": [
            "Enter the month (1-12) :3\n",
            "Month 3 is March\n"
          ]
        }
      ],
      "source": [
        "# file name : MonthNames.py\n",
        "# this program reads an integer value between 1 and 12 from the user and prints output the corresponding month of the year.\n",
        "month={1:'January',\n",
        "2:'February',\n",
        "3:'March',\n",
        "4:'April',\n",
        "5:'May',\n",
        "6:'June',\n",
        "7:'July',\n",
        "8:'August',\n",
        "9:'Sepetember',\n",
        "10:'October',\n",
        "11:'November',\n",
        "12:'December'}\n",
        "\n",
        "Month_number = int(input('Enter the month (1-12) :'))\n",
        "print('Month',Month_number,'is',month[Month_number])"
      ]
    },
    {
      "cell_type": "markdown",
      "source": [
        "**Exercise 2**\n",
        "\n",
        "A certain cinema currently sells tickets for a full price of 6 pounds, but always sells tickets for half price to people who are less than 16 years old, and for a third of the price for people who are 60 years old or more.\n",
        "An example run of the program (numbers in bold are typed in by the user)\n",
        "Enter your age: 63\n",
        "Your ticket costs £2.00"
      ],
      "metadata": {
        "id": "94TL7JrPg5Et"
      }
    },
    {
      "cell_type": "code",
      "source": [
        "# filename :Ticket.py\n",
        "\n",
        "full_price=6.00\n",
        "Age = int(input('Enter your Age :'))\n",
        "\n",
        "if Age >=60:\n",
        "  ticket_price = full_price/3\n",
        "elif Age <16:\n",
        "  ticket_price = full_price/2\n",
        "else:\n",
        "\n",
        " ticket_price = full_price\n",
        "\n",
        "print (f'Your ticket costs £ {ticket_price:.2f}')"
      ],
      "metadata": {
        "colab": {
          "base_uri": "https://localhost:8080/"
        },
        "id": "_7AJglUJhFJU",
        "outputId": "cbeecdd7-428b-4197-8839-2a7db28e76dd"
      },
      "execution_count": null,
      "outputs": [
        {
          "output_type": "stream",
          "name": "stdout",
          "text": [
            "Enter your Age :63\n",
            "Your ticket costs £ 2.00\n"
          ]
        }
      ]
    },
    {
      "cell_type": "markdown",
      "source": [
        "\n",
        "**Exercise 3**\n",
        "\n",
        "Name your file: BodyMassIndex.py\n",
        "\n",
        "Write a program to calculate your BMI and give weight status.\n",
        "Body Mass Index (BMI) is an internationally used measurement to check if you are a healthy weight for your height.\n",
        "\n",
        "The metric BMI formula accepts weight in kilograms and height in meters:\n",
        "\n",
        "BMI= weight(kg)/height2(m2)\n",
        "\n",
        "BMI Weight Status Categories table\n",
        "\n",
        "BMI range - kg/m2   Category\n",
        "\n",
        "Below 18.5         Underweight\n",
        "\n",
        "18.5 -24.9         Normal\n",
        "\n",
        "25 - 29.9          Overweight\n",
        "\n",
        "30 & Above     Obese\n",
        "\n",
        "An example run of the program (numbers in bold are typed in by the user)\n",
        "\n",
        "Enter your weight in (kg): 75\n",
        "\n",
        "Enter your height in (m): 1.70\n",
        "\n",
        "Your BMI is: 25.95\n",
        "You are in the “overweight” range.\n"
      ],
      "metadata": {
        "id": "RfEcLDCTkI8W"
      }
    },
    {
      "cell_type": "code",
      "source": [
        "# file name :BodyMassIndex.py\n",
        "\n",
        "weight = float(input('Enter your weight in (kg):'))\n",
        "height = float(input('Enter your height in (m):'))\n",
        "\n",
        "BMI = weight/height**2\n",
        "\n",
        "if BMI< 18.5:\n",
        "  category='Underweight'\n",
        "elif 18.5<= BMI <= 24.9:\n",
        "  category='Normal'\n",
        "elif 25<= BMI <= 29.9:\n",
        "  category='Overweight'\n",
        "elif BMI<30:\n",
        "  category='Obese'\n",
        "else:\n",
        "  print(\"Invalid Input\")\n",
        "\n",
        "print(f'Your BMI is:{BMI:.2f}. \\n1You are in the {category} range.')\n",
        "\n"
      ],
      "metadata": {
        "colab": {
          "base_uri": "https://localhost:8080/"
        },
        "id": "b6PYwQl9kpLN",
        "outputId": "f6b0d81b-0d89-44e0-8f04-d5aebc256d6b"
      },
      "execution_count": null,
      "outputs": [
        {
          "output_type": "stream",
          "name": "stdout",
          "text": [
            "Enter your weight in (kg):75\n",
            "Enter your height in (m):1.70\n",
            "Your BMI is:25.95. \n",
            "1You are in the Overweight range.\n"
          ]
        }
      ]
    },
    {
      "cell_type": "markdown",
      "source": [
        "**Exercise 4**\n",
        "\n",
        "Write a Python program to receive 3 numbers from the user and print the greatest among them.\n"
      ],
      "metadata": {
        "id": "yu6kOI3rrBPP"
      }
    },
    {
      "cell_type": "code",
      "source": [
        "number1= float(input('Enter first number:'))\n",
        "number2= float(input('Enter Second number:'))\n",
        "number3= float(input('Enter third number:'))\n",
        "\n",
        "if number1 >=number2 and number1>= number3:\n",
        "  print('The greatest number is',number1)\n",
        "elif number2 >=number1 and number2>= number3:\n",
        "  print('The greatest number is',number2)\n",
        "else:\n",
        "   print('The greatest number is',number3)\n"
      ],
      "metadata": {
        "colab": {
          "base_uri": "https://localhost:8080/"
        },
        "id": "OHLfgspLrIWJ",
        "outputId": "610c276b-c3fd-4736-b4ec-924c97e9cf56"
      },
      "execution_count": null,
      "outputs": [
        {
          "output_type": "stream",
          "name": "stdout",
          "text": [
            "Enter first number:3\n",
            "Enter Second number:4\n",
            "Enter third number:9\n",
            "The greatest number is 9.0\n"
          ]
        }
      ]
    },
    {
      "cell_type": "markdown",
      "source": [
        "**Exercise 5**\n",
        "\n",
        "Find the factorial of a given number using loops(note the number is received from the user)\n"
      ],
      "metadata": {
        "id": "Kz--D_dutBff"
      }
    },
    {
      "cell_type": "code",
      "source": [
        "num=int(input('Enter the number:'))\n",
        "f=1\n",
        "while num>1:\n",
        "  f*=num\n",
        "  num-=1\n",
        "print(\"the factorial of the given number is \", f)"
      ],
      "metadata": {
        "colab": {
          "base_uri": "https://localhost:8080/"
        },
        "id": "-2OPDxFvt58H",
        "outputId": "12c96a7f-50a9-4c40-fa5c-bdca94b956bc"
      },
      "execution_count": null,
      "outputs": [
        {
          "output_type": "stream",
          "name": "stdout",
          "text": [
            "Enter the number:6\n",
            "the factorial of the given number is  720\n"
          ]
        }
      ]
    },
    {
      "cell_type": "markdown",
      "source": [
        "**Exercise 6**\n",
        "\n",
        "Reverse a number using while loop\n"
      ],
      "metadata": {
        "id": "cNc8f-oyyujY"
      }
    },
    {
      "cell_type": "code",
      "source": [
        "\n",
        "num=str(input('Enter the number:'))\n",
        "n=len(num)\n",
        "rev=''\n",
        "while n>0:\n",
        "  rev+=num[n-1]\n",
        "  n= n-1\n",
        "print(\"Reverse of the number: \",rev)"
      ],
      "metadata": {
        "colab": {
          "base_uri": "https://localhost:8080/"
        },
        "id": "3oX8e2tfy0FT",
        "outputId": "b67e2367-5e18-4c0c-8396-a687b319c5d1"
      },
      "execution_count": null,
      "outputs": [
        {
          "output_type": "stream",
          "name": "stdout",
          "text": [
            "Enter the number:23\n",
            "Reverse of the number:  32\n"
          ]
        }
      ]
    },
    {
      "cell_type": "markdown",
      "source": [
        "**Exercise 7**\n",
        "\n",
        "Finding the multiples of a number using loop\n"
      ],
      "metadata": {
        "id": "1JKuVZI22A3k"
      }
    },
    {
      "cell_type": "code",
      "source": [
        "num=int(input('Enter the number:'))\n",
        "n=int(input('Enter the number of multiples needed:'))\n",
        "print(f'The {n} multiples of {num} are :')\n",
        "for i in range (1,n+1):\n",
        "  multiple=num*i\n",
        "\n",
        "  print(multiple)"
      ],
      "metadata": {
        "colab": {
          "base_uri": "https://localhost:8080/"
        },
        "id": "AOjoSt1k2GFc",
        "outputId": "21604e91-e237-4e3e-ff95-2a7ef915ef70"
      },
      "execution_count": null,
      "outputs": [
        {
          "output_type": "stream",
          "name": "stdout",
          "text": [
            "Enter the number:5\n",
            "Enter the number of multiples needed:4\n",
            "The 4 multiples of 5 are :\n",
            "5\n",
            "10\n",
            "15\n",
            "20\n"
          ]
        }
      ]
    },
    {
      "cell_type": "markdown",
      "source": [
        "**Exercise 8**\n",
        "\n",
        "Write a program to print the inputted value as it is and break the loop if the value is 'done'.\n",
        "\n",
        "Example run of the program\n",
        "\n",
        ":hello there\n",
        "hello there\n",
        "\n",
        ":finished\n",
        "finished\n",
        "\n",
        ":done\n",
        "Done\n"
      ],
      "metadata": {
        "id": "BQIp29XE3JJz"
      }
    },
    {
      "cell_type": "code",
      "source": [
        "while True:\n",
        "  values=input('Enter the expression :')\n",
        "\n",
        "  if values == 'done':\n",
        "    print('Done')\n",
        "    break\n",
        "  else:\n",
        "    print(values)\n",
        "\n"
      ],
      "metadata": {
        "colab": {
          "base_uri": "https://localhost:8080/"
        },
        "id": "hssqyyPj3ZEy",
        "outputId": "4e5a61f2-cfd2-4722-c81e-ef8d4c495fcc"
      },
      "execution_count": 8,
      "outputs": [
        {
          "output_type": "stream",
          "name": "stdout",
          "text": [
            "Enter the expression :hello there\n",
            "hello there\n",
            "Enter the expression :finished\n",
            "finished\n",
            "Enter the expression :done\n",
            "Done\n"
          ]
        }
      ]
    },
    {
      "cell_type": "markdown",
      "source": [
        "**Exercise 9**\n",
        "\n",
        "\n",
        "Write a program that prints the numbers from 1 to 10. But for multiples of three print \"Fizz\" instead of the number and for the multiple of five print \"Buzz\". For numbers which are multiples of both three and five print \"FizzBuzz\"\n"
      ],
      "metadata": {
        "id": "BLgi05KpESJM"
      }
    },
    {
      "cell_type": "code",
      "source": [
        "for i in range(1,11):\n",
        "  if i%3==0 and i%5==0:\n",
        "    print('FizzBuzz')\n",
        "  elif i%5==0:\n",
        "    print('Buzz')\n",
        "  elif i%3==0:\n",
        "    print('Fizz')\n",
        "  else:\n",
        "    print(i)"
      ],
      "metadata": {
        "colab": {
          "base_uri": "https://localhost:8080/"
        },
        "id": "kfRqFMVTEp3F",
        "outputId": "1e19d5a2-af9e-47cd-a22f-f3be79654ab0"
      },
      "execution_count": 13,
      "outputs": [
        {
          "output_type": "stream",
          "name": "stdout",
          "text": [
            "1\n",
            "2\n",
            "Fizz\n",
            "4\n",
            "Buzz\n",
            "Fizz\n",
            "7\n",
            "8\n",
            "Fizz\n",
            "Buzz\n"
          ]
        }
      ]
    },
    {
      "cell_type": "markdown",
      "source": [
        "**Exercise 10**\n",
        "\n",
        "Write a program to print the following pattern:\n",
        "\n",
        "5 4 3 2 1\n",
        "\n",
        "4 3 2 1\n",
        "\n",
        "3 2 1\n",
        "\n",
        "2 1\n",
        "\n",
        "1\n",
        "\n"
      ],
      "metadata": {
        "id": "whdiSr-EGGx4"
      }
    },
    {
      "cell_type": "code",
      "source": [
        "num='54321'\n",
        "n= len(num)\n",
        "for i in range(n):\n",
        "  print(num[i:])\n",
        "  n-=1\n"
      ],
      "metadata": {
        "colab": {
          "base_uri": "https://localhost:8080/"
        },
        "id": "ptKfSMrMGKz-",
        "outputId": "6f02041e-c688-467e-f103-f2ebddb49b36"
      },
      "execution_count": 51,
      "outputs": [
        {
          "output_type": "stream",
          "name": "stdout",
          "text": [
            "54321\n",
            "4321\n",
            "321\n",
            "21\n",
            "1\n"
          ]
        }
      ]
    }
  ]
}